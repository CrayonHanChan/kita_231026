{
 "cells": [
  {
   "cell_type": "code",
   "execution_count": null,
   "id": "e7702faf",
   "metadata": {},
   "outputs": [],
   "source": [
    "#### 판다스\n",
    "\n",
    "\n",
    "* DataFrame과 Series: 2차원 테이블과 1차원 배열(하나의 칼럼) 형태의 데이터 구조를 제공\n",
    "* 데이터 처리: 데이터 정제, 필터링, 변환 등을 위한 다양한 기능을 제공\n",
    "* 데이터 분석: 기술통계, 그룹화, 시계열 분석 등 복잡한 분석 작업을 제공\n",
    "* 입출력 기능: CSV, Excel, JSON 등 다양한 파일 형식의 데이터를 읽고 쓸 수 있는 기능을 제공\n",
    "* 시각화 지원: 매트플롯립과 연동하여 데이터 시각화가 가능하도록 제공\n",
    "* 라이브러리는 여러 종류의 class와 다양한 내장 함수로 구성. 시리즈와 데이터프레임은 대표적인 클래스 객체임\n",
    "* 시리즈 인덱스는 데이터 값과 일대일 대응. 파이썬 딕셔너리와 비슷한 구조. pandas.Series(딕셔너리)"
   ]
  },
  {
   "cell_type": "markdown",
   "id": "f418c9d1",
   "metadata": {},
   "source": [
    "Series 기본 구조\n",
    "- Series는 값의 리스트를 담고 있으며, 각 값은 고유한 인덱스와 연결되어 있다.\n",
    "- 기본적으로, 이 인덱스는 0부터 시작하는 정수지만, 문자열 또는 날짜와 같은 다른 타입으로 지정할 수도 있다.\n",
    "- Series는 다양한 데이터 타입을 저장할 수 있다. 예를 들어, 정수, 실수, 문자열, 파이썬 객체 등이 포함된다.\n",
    "- 강력한 인덱싱 및 슬라이싱 기능을 제공. 특정 인덱스의 값에 접근하거나, 특정 조건을 만족하는 데이터만을 필터링할 수 있다.\n",
    "- Series를 다른 형태의 데이터 구조로 변환하는 것이 간단하다. 예를 들어, Series를 리스트, 딕셔너리, 혹은 DataFrame으로 변환할 수 있다."
   ]
  },
  {
   "cell_type": "code",
   "execution_count": 133,
   "id": "9a1320ba",
   "metadata": {},
   "outputs": [
    {
     "ename": "TypeError",
     "evalue": "'str' object is not callable",
     "output_type": "error",
     "traceback": [
      "\u001b[1;31m---------------------------------------------------------------------------\u001b[0m",
      "\u001b[1;31mTypeError\u001b[0m                                 Traceback (most recent call last)",
      "Cell \u001b[1;32mIn[133], line 8\u001b[0m\n\u001b[0;32m      6\u001b[0m dict_data \u001b[38;5;241m=\u001b[39m {\u001b[38;5;124m'\u001b[39m\u001b[38;5;124ma\u001b[39m\u001b[38;5;124m'\u001b[39m:\u001b[38;5;241m1\u001b[39m, \u001b[38;5;124m'\u001b[39m\u001b[38;5;124mb\u001b[39m\u001b[38;5;124m'\u001b[39m:\u001b[38;5;241m2\u001b[39m, \u001b[38;5;124m'\u001b[39m\u001b[38;5;124mc\u001b[39m\u001b[38;5;124m'\u001b[39m:\u001b[38;5;241m3\u001b[39m}\n\u001b[0;32m      7\u001b[0m sr \u001b[38;5;241m=\u001b[39m pd\u001b[38;5;241m.\u001b[39mSeries(dict_data) \u001b[38;5;66;03m# sr 객체에 pd. 하고 Series 사용. 그함수안에 dict_data 대입\u001b[39;00m\n\u001b[1;32m----> 8\u001b[0m \u001b[38;5;28;43mprint\u001b[39;49m\u001b[43m(\u001b[49m\u001b[43msr\u001b[49m\u001b[43m)\u001b[49m \u001b[38;5;66;03m# a b c  가 인덱스..\u001b[39;00m\n\u001b[0;32m      9\u001b[0m \u001b[38;5;28mprint\u001b[39m(sr\u001b[38;5;241m+\u001b[39m\u001b[38;5;241m10\u001b[39m)\n\u001b[0;32m     10\u001b[0m \u001b[38;5;28mtype\u001b[39m(sr)\n",
      "\u001b[1;31mTypeError\u001b[0m: 'str' object is not callable"
     ]
    }
   ],
   "source": [
    "#시리즈 클래스 만들기\n",
    "#pandas 불러오기 (pd)\n",
    "import pandas as pd # pandas 를 pd 로 줄여서 부르겠다. as(alias)\n",
    "\n",
    "# k:v 구조(키 밸류 구조-딕셔너리)를 갖는 딕셔너리를 만들고 변수 dict_data에 저장\n",
    "dict_data = {'a':1, 'b':2, 'c':3}\n",
    "sr = pd.Series(dict_data) # sr 객체에 pd. 하고 Series 사용. 그함수안에 dict_data 대입\n",
    "print(sr) # a b c  가 인덱스..\n",
    "print(sr+10)\n",
    "type(sr)"
   ]
  },
  {
   "cell_type": "code",
   "execution_count": 134,
   "id": "b10eaf3e",
   "metadata": {},
   "outputs": [
    {
     "ename": "TypeError",
     "evalue": "'str' object is not callable",
     "output_type": "error",
     "traceback": [
      "\u001b[1;31m---------------------------------------------------------------------------\u001b[0m",
      "\u001b[1;31mTypeError\u001b[0m                                 Traceback (most recent call last)",
      "Cell \u001b[1;32mIn[134], line 4\u001b[0m\n\u001b[0;32m      2\u001b[0m list_data \u001b[38;5;241m=\u001b[39m [\u001b[38;5;124m'\u001b[39m\u001b[38;5;124m2019-07-02\u001b[39m\u001b[38;5;124m'\u001b[39m,\u001b[38;5;241m3.14\u001b[39m,\u001b[38;5;124m'\u001b[39m\u001b[38;5;124mABC\u001b[39m\u001b[38;5;124m'\u001b[39m,\u001b[38;5;241m100\u001b[39m,\u001b[38;5;28;01mTrue\u001b[39;00m]\n\u001b[0;32m      3\u001b[0m sr \u001b[38;5;241m=\u001b[39m pd\u001b[38;5;241m.\u001b[39mSeries(list_data)\n\u001b[1;32m----> 4\u001b[0m \u001b[38;5;28;43mprint\u001b[39;49m\u001b[43m(\u001b[49m\u001b[43msr\u001b[49m\u001b[43m)\u001b[49m \u001b[38;5;66;03m# 별도로 인덱스를 안넣으면 0~ 숫자 인덱스가 기입됨\u001b[39;00m\n\u001b[0;32m      5\u001b[0m \u001b[38;5;28mtype\u001b[39m(sr)\n",
      "\u001b[1;31mTypeError\u001b[0m: 'str' object is not callable"
     ]
    }
   ],
   "source": [
    "# 리스트를 시리즈로 변환\n",
    "list_data = ['2019-07-02',3.14,'ABC',100,True]\n",
    "sr = pd.Series(list_data)\n",
    "print(sr) # 별도로 인덱스를 안넣으면 0~ 숫자 인덱스가 기입됨\n",
    "type(sr)"
   ]
  },
  {
   "cell_type": "code",
   "execution_count": 127,
   "id": "e7d707b8",
   "metadata": {},
   "outputs": [
    {
     "data": {
      "text/plain": [
       "['a', 'b', 'c', 'd', 'e']"
      ]
     },
     "execution_count": 127,
     "metadata": {},
     "output_type": "execute_result"
    }
   ],
   "source": [
    "list('abcde')"
   ]
  },
  {
   "cell_type": "code",
   "execution_count": 135,
   "id": "4b298ef3",
   "metadata": {},
   "outputs": [
    {
     "ename": "TypeError",
     "evalue": "'str' object is not callable",
     "output_type": "error",
     "traceback": [
      "\u001b[1;31m---------------------------------------------------------------------------\u001b[0m",
      "\u001b[1;31mTypeError\u001b[0m                                 Traceback (most recent call last)",
      "Cell \u001b[1;32mIn[135], line 5\u001b[0m\n\u001b[0;32m      3\u001b[0m list_data \u001b[38;5;241m=\u001b[39m [\u001b[38;5;124m'\u001b[39m\u001b[38;5;124m2019-07-02\u001b[39m\u001b[38;5;124m'\u001b[39m,\u001b[38;5;241m3.14\u001b[39m,\u001b[38;5;124m'\u001b[39m\u001b[38;5;124mABC\u001b[39m\u001b[38;5;124m'\u001b[39m,\u001b[38;5;241m100\u001b[39m,\u001b[38;5;28;01mTrue\u001b[39;00m]\n\u001b[0;32m      4\u001b[0m sr \u001b[38;5;241m=\u001b[39m pd\u001b[38;5;241m.\u001b[39mSeries(list_data, index\u001b[38;5;241m=\u001b[39m\u001b[38;5;28mlist\u001b[39m(\u001b[38;5;124m'\u001b[39m\u001b[38;5;124mabcde\u001b[39m\u001b[38;5;124m'\u001b[39m)) \u001b[38;5;66;03m# 인덱스에 문자 기입\u001b[39;00m\n\u001b[1;32m----> 5\u001b[0m \u001b[38;5;28;43mprint\u001b[39;49m\u001b[43m(\u001b[49m\u001b[43msr\u001b[49m\u001b[43m)\u001b[49m\n\u001b[0;32m      6\u001b[0m \u001b[38;5;28mtype\u001b[39m(sr)\n",
      "\u001b[1;31mTypeError\u001b[0m: 'str' object is not callable"
     ]
    }
   ],
   "source": [
    "# 리스트를 시리즈로 변환\n",
    "# 숫자 말고 문자 인덱스로 하기\n",
    "list_data = ['2019-07-02',3.14,'ABC',100,True]\n",
    "sr = pd.Series(list_data, index=list('abcde')) # 인덱스에 문자 기입\n",
    "print(sr)\n",
    "type(sr)"
   ]
  },
  {
   "cell_type": "code",
   "execution_count": 136,
   "id": "cb517d38",
   "metadata": {},
   "outputs": [
    {
     "ename": "TypeError",
     "evalue": "'str' object is not callable",
     "output_type": "error",
     "traceback": [
      "\u001b[1;31m---------------------------------------------------------------------------\u001b[0m",
      "\u001b[1;31mTypeError\u001b[0m                                 Traceback (most recent call last)",
      "Cell \u001b[1;32mIn[136], line 4\u001b[0m\n\u001b[0;32m      2\u001b[0m idx \u001b[38;5;241m=\u001b[39m sr\u001b[38;5;241m.\u001b[39mindex\n\u001b[0;32m      3\u001b[0m val \u001b[38;5;241m=\u001b[39m sr\u001b[38;5;241m.\u001b[39mvalues\n\u001b[1;32m----> 4\u001b[0m \u001b[38;5;28;43mprint\u001b[39;49m\u001b[43m(\u001b[49m\u001b[43midx\u001b[49m\u001b[43m)\u001b[49m\n\u001b[0;32m      5\u001b[0m \u001b[38;5;28mprint\u001b[39m(val)\n",
      "\u001b[1;31mTypeError\u001b[0m: 'str' object is not callable"
     ]
    }
   ],
   "source": [
    "# 인덱스 및 값\n",
    "idx = sr.index\n",
    "val = sr.values\n",
    "print(idx)\n",
    "print(val)"
   ]
  },
  {
   "cell_type": "code",
   "execution_count": 137,
   "id": "dc56a206",
   "metadata": {
    "scrolled": true
   },
   "outputs": [
    {
     "ename": "TypeError",
     "evalue": "'str' object is not callable",
     "output_type": "error",
     "traceback": [
      "\u001b[1;31m---------------------------------------------------------------------------\u001b[0m",
      "\u001b[1;31mTypeError\u001b[0m                                 Traceback (most recent call last)",
      "Cell \u001b[1;32mIn[137], line 5\u001b[0m\n\u001b[0;32m      3\u001b[0m tup_data \u001b[38;5;241m=\u001b[39m (\u001b[38;5;124m'\u001b[39m\u001b[38;5;124mkevin\u001b[39m\u001b[38;5;124m'\u001b[39m,\u001b[38;5;124m'\u001b[39m\u001b[38;5;124m2019-07-02\u001b[39m\u001b[38;5;124m'\u001b[39m,\u001b[38;5;124m'\u001b[39m\u001b[38;5;124m남\u001b[39m\u001b[38;5;124m'\u001b[39m,\u001b[38;5;28;01mTrue\u001b[39;00m)\n\u001b[0;32m      4\u001b[0m sr \u001b[38;5;241m=\u001b[39m pd\u001b[38;5;241m.\u001b[39mSeries(tup_data, index\u001b[38;5;241m=\u001b[39m[\u001b[38;5;124m'\u001b[39m\u001b[38;5;124mName\u001b[39m\u001b[38;5;124m'\u001b[39m, \u001b[38;5;124m'\u001b[39m\u001b[38;5;124mDate\u001b[39m\u001b[38;5;124m'\u001b[39m, \u001b[38;5;124m'\u001b[39m\u001b[38;5;124mGender\u001b[39m\u001b[38;5;124m'\u001b[39m, \u001b[38;5;124m'\u001b[39m\u001b[38;5;124mTeacher\u001b[39m\u001b[38;5;124m'\u001b[39m])\n\u001b[1;32m----> 5\u001b[0m \u001b[38;5;28;43mprint\u001b[39;49m\u001b[43m(\u001b[49m\u001b[43msr\u001b[49m\u001b[43m)\u001b[49m\n\u001b[0;32m      6\u001b[0m \u001b[38;5;28mtype\u001b[39m(sr)\n",
      "\u001b[1;31mTypeError\u001b[0m: 'str' object is not callable"
     ]
    }
   ],
   "source": [
    "# 튜플을 시리즈로 변환\n",
    "import pandas as pd\n",
    "tup_data = ('kevin','2019-07-02','남',True)\n",
    "sr = pd.Series(tup_data, index=['Name', 'Date', 'Gender', 'Teacher'])\n",
    "print(sr)\n",
    "type(sr)"
   ]
  },
  {
   "cell_type": "code",
   "execution_count": 58,
   "id": "815b4d6f",
   "metadata": {},
   "outputs": [
    {
     "name": "stdout",
     "output_type": "stream",
     "text": [
      "kevin <class 'pandas.core.series.Series'>\n",
      "kevin\n"
     ]
    }
   ],
   "source": [
    "#인덱싱\n",
    "import warnings\n",
    "warnings.filterwarnings('ignore')\n",
    "print(sr[0], type(sr))\n",
    "print(sr['Name'])"
   ]
  },
  {
   "cell_type": "code",
   "execution_count": 138,
   "id": "382177e0",
   "metadata": {},
   "outputs": [
    {
     "ename": "TypeError",
     "evalue": "'str' object is not callable",
     "output_type": "error",
     "traceback": [
      "\u001b[1;31m---------------------------------------------------------------------------\u001b[0m",
      "\u001b[1;31mTypeError\u001b[0m                                 Traceback (most recent call last)",
      "Cell \u001b[1;32mIn[138], line 2\u001b[0m\n\u001b[0;32m      1\u001b[0m \u001b[38;5;66;03m# data와 gender뽑기\u001b[39;00m\n\u001b[1;32m----> 2\u001b[0m \u001b[38;5;28;43mprint\u001b[39;49m\u001b[43m(\u001b[49m\u001b[43msr\u001b[49m\u001b[43m[\u001b[49m\u001b[43m[\u001b[49m\u001b[38;5;241;43m1\u001b[39;49m\u001b[43m,\u001b[49m\u001b[38;5;241;43m2\u001b[39;49m\u001b[43m]\u001b[49m\u001b[43m]\u001b[49m\u001b[43m)\u001b[49m\n",
      "\u001b[1;31mTypeError\u001b[0m: 'str' object is not callable"
     ]
    }
   ],
   "source": [
    "# data와 gender뽑기\n",
    "print(sr[[1,2]]) # sr[[1,2]]는 판다스의 팬시 인덱싱을 사용해 여러 인덱스를 한 번에 선택할 수 있다.\n",
    "# print(sr[1,2]) # 대괄호가 하나면 에러발생시킴.\n",
    "#sr[1,2]는 튜플 (1,2)를 인덱스로 사용하려고 시도하는 반면 Series 객체는 단일 차원의 인덱스만을 지원"
   ]
  },
  {
   "cell_type": "code",
   "execution_count": 14,
   "id": "e7308bfa",
   "metadata": {},
   "outputs": [
    {
     "name": "stdout",
     "output_type": "stream",
     "text": [
      "[11 13 15 17 19] <class 'numpy.ndarray'>\n",
      "a    11\n",
      "b    13\n",
      "c    15\n",
      "d    17\n",
      "e    19\n",
      "dtype: int32 <class 'pandas.core.series.Series'>\n"
     ]
    }
   ],
   "source": [
    "# numpy를 사용해서 배열을 만듦\n",
    "import numpy as np\n",
    "s1 = np.arange(11,21,2)\n",
    "print(s1,type(s1))\n",
    "s2 = pd.Series(s1, index=list('abcde'))\n",
    "print(s2, type(s2))"
   ]
  },
  {
   "cell_type": "markdown",
   "id": "dd58d18c",
   "metadata": {},
   "source": [
    "#### 과제1_1121 : 배열을 생성 후 시리즈로 변환하여 아래와 같이 출력하세요."
   ]
  },
  {
   "cell_type": "code",
   "execution_count": 15,
   "id": "f0ef4d1a",
   "metadata": {
    "scrolled": false
   },
   "outputs": [
    {
     "name": "stdout",
     "output_type": "stream",
     "text": [
      "Califonia    1000\n",
      "Ohio         2000\n",
      "Oregon       3000\n",
      "Texas        4000\n",
      "dtype: int32\n"
     ]
    }
   ],
   "source": [
    "# 과제1_1121 솔루션\n",
    "import numpy as np\n",
    "import pandas as pd\n",
    "\n",
    "s1 = np.arange(1000,5000,1000)\n",
    "# print(s1)\n",
    "s2 = pd.Series(s1, index=['Califonia','Ohio','Oregon','Texas'])\n",
    "print(s2)"
   ]
  },
  {
   "cell_type": "code",
   "execution_count": 17,
   "id": "3585a7e3",
   "metadata": {},
   "outputs": [
    {
     "name": "stdout",
     "output_type": "stream",
     "text": [
      "state\n",
      "Califonia    1000\n",
      "Ohio         2000\n",
      "Oregon       3000\n",
      "Texas        4000\n",
      "Name: population, dtype: int32\n"
     ]
    }
   ],
   "source": [
    "# 과제1_1121 솔루션\n",
    "import numpy as np\n",
    "import pandas as pd\n",
    "\n",
    "list1 = np.arange(1000,5000,1000)\n",
    "sr = pd.Series(list1, index= ['Califonia','Ohio','Oregon','Texas'])\n",
    "sr.name = 'population'\n",
    "sr.index.name = 'state'\n",
    "print(sr)"
   ]
  },
  {
   "cell_type": "code",
   "execution_count": 40,
   "id": "6e6e741a",
   "metadata": {},
   "outputs": [
    {
     "name": "stdout",
     "output_type": "stream",
     "text": [
      "[nan, 2000.0, 3000.0, 4000.0] <class 'list'>\n"
     ]
    }
   ],
   "source": [
    "# Series -> list sr.tolist()\n",
    "sr_tolist = sr.tolist()\n",
    "print(sr_tolist,type(sr_tolist))"
   ]
  },
  {
   "cell_type": "code",
   "execution_count": 19,
   "id": "845c262c",
   "metadata": {},
   "outputs": [
    {
     "data": {
      "text/plain": [
       "{'Califonia': 1000, 'Ohio': 2000, 'Oregon': 3000, 'Texas': 4000}"
      ]
     },
     "execution_count": 19,
     "metadata": {},
     "output_type": "execute_result"
    }
   ],
   "source": [
    "# Series -> dic dict sr.to_dict()\n",
    "sr_todic = sr.to_dict()\n",
    "sr_todic"
   ]
  },
  {
   "cell_type": "code",
   "execution_count": 39,
   "id": "35262e4f",
   "metadata": {},
   "outputs": [
    {
     "name": "stdout",
     "output_type": "stream",
     "text": [
      "            Value\n",
      "state            \n",
      "Califonia     NaN\n",
      "Ohio       2000.0\n",
      "Oregon     3000.0\n",
      "Texas      4000.0 <class 'pandas.core.frame.DataFrame'>\n"
     ]
    }
   ],
   "source": [
    "sr_df = sr.to_frame(name='Value')\n",
    "print(sr_df,type(sr_df))"
   ]
  },
  {
   "cell_type": "code",
   "execution_count": 23,
   "id": "be7a0b46",
   "metadata": {},
   "outputs": [
    {
     "data": {
      "text/plain": [
       "state\n",
       "Califonia       NaN\n",
       "Ohio         2000.0\n",
       "Oregon       3000.0\n",
       "Texas        4000.0\n",
       "Name: population, dtype: float64"
      ]
     },
     "execution_count": 23,
     "metadata": {},
     "output_type": "execute_result"
    }
   ],
   "source": [
    "# Null 값 처리..\n",
    "# 일부러 Null값을 넣어보고 처리해보자\n",
    "sr.Califonia = np.nan # (np.nan 으로 널값만들기)\n",
    "sr"
   ]
  },
  {
   "cell_type": "code",
   "execution_count": 33,
   "id": "1f5ef10a",
   "metadata": {
    "scrolled": true
   },
   "outputs": [
    {
     "data": {
      "text/plain": [
       "state\n",
       "Califonia     True\n",
       "Ohio         False\n",
       "Oregon       False\n",
       "Texas        False\n",
       "Name: population, dtype: bool"
      ]
     },
     "execution_count": 33,
     "metadata": {},
     "output_type": "execute_result"
    }
   ],
   "source": [
    "# Null 여부를 확인하는 방법\n",
    "null_sr = sr.isnull()\n",
    "null_sr"
   ]
  },
  {
   "cell_type": "code",
   "execution_count": 36,
   "id": "58f9a73e",
   "metadata": {},
   "outputs": [
    {
     "data": {
      "text/plain": [
       "1"
      ]
     },
     "execution_count": 36,
     "metadata": {},
     "output_type": "execute_result"
    }
   ],
   "source": [
    "# null이 몇개인지보려면 이렇게 하면됨\n",
    "null_sr.sum() # True인것만 개수를 셈.  "
   ]
  },
  {
   "cell_type": "code",
   "execution_count": 37,
   "id": "71f0d281",
   "metadata": {},
   "outputs": [
    {
     "data": {
      "text/plain": [
       "state\n",
       "Califonia    False\n",
       "Ohio          True\n",
       "Oregon        True\n",
       "Texas         True\n",
       "Name: population, dtype: bool"
      ]
     },
     "execution_count": 37,
     "metadata": {},
     "output_type": "execute_result"
    }
   ],
   "source": [
    "not_null_sr = sr.notnull()\n",
    "not_null_sr"
   ]
  },
  {
   "cell_type": "code",
   "execution_count": 41,
   "id": "4477c9c7",
   "metadata": {},
   "outputs": [
    {
     "data": {
      "text/plain": [
       "state\n",
       "Califonia       0.0\n",
       "Ohio         2000.0\n",
       "Oregon       3000.0\n",
       "Texas        4000.0\n",
       "Name: population, dtype: float64"
      ]
     },
     "execution_count": 41,
     "metadata": {},
     "output_type": "execute_result"
    }
   ],
   "source": [
    "# null 값을 특정한 숫자로 채우는 것\n",
    "filled_sr = sr.fillna(0) # na를 채워라 0으로,,\n",
    "filled_sr"
   ]
  },
  {
   "cell_type": "code",
   "execution_count": 42,
   "id": "d6deec30",
   "metadata": {},
   "outputs": [
    {
     "data": {
      "text/plain": [
       "state\n",
       "Califonia       NaN\n",
       "Ohio         2000.0\n",
       "Oregon       3000.0\n",
       "Texas        4000.0\n",
       "Name: population, dtype: float64"
      ]
     },
     "execution_count": 42,
     "metadata": {},
     "output_type": "execute_result"
    }
   ],
   "source": [
    "sr # sr은 여전히 null값이있음"
   ]
  },
  {
   "cell_type": "code",
   "execution_count": 43,
   "id": "6335d8f3",
   "metadata": {},
   "outputs": [
    {
     "data": {
      "text/plain": [
       "state\n",
       "Ohio      2000.0\n",
       "Oregon    3000.0\n",
       "Texas     4000.0\n",
       "Name: population, dtype: float64"
      ]
     },
     "execution_count": 43,
     "metadata": {},
     "output_type": "execute_result"
    }
   ],
   "source": [
    "# sr 의 null값 삭제\n",
    "dropped_sr = sr.dropna() # sr.dropna()를 사용\n",
    "dropped_sr"
   ]
  },
  {
   "cell_type": "code",
   "execution_count": 45,
   "id": "703772fb",
   "metadata": {},
   "outputs": [
    {
     "data": {
      "text/plain": [
       "0"
      ]
     },
     "execution_count": 45,
     "metadata": {},
     "output_type": "execute_result"
    }
   ],
   "source": [
    "# 널깂들 갯수 확인. 다 처리가 되었는지 확인\n",
    "dropped_sr.isnull().sum()"
   ]
  },
  {
   "cell_type": "markdown",
   "id": "f9ee8baf",
   "metadata": {},
   "source": [
    "#### 데이터프레임\n",
    "* 데이터프레임은 2차원 배열. R의 데이터프레임에서 유래.\n",
    "* 데이터프레임의 열은 각각 시리즈 개체. \n",
    "* 시리즈를 열벡터라고 하면 데이터프레임은 여러개의 열벡터들이 같은 행 인덱스를 기준으로 줄지어 결합된 2차원 벡터 또는 행렬.\n",
    "* 선형대수학에서 열 벡터(m x 1 행렬)는 m 원소들의 단일 열 행렬\n",
    "* 행 벡터(1 x m 행렬)은 m원소들의 단일 행 행렬.\n",
    "* 리스트, 딕셔너리, ndarray 등 다양한 데이터로부터 데이터프레임 생성\n",
    "* 반대로 리스트, 딕셔너리, ndarray 등으로 변환될 수 있음"
   ]
  },
  {
   "cell_type": "code",
   "execution_count": 56,
   "id": "e97f84a7",
   "metadata": {
    "scrolled": false
   },
   "outputs": [
    {
     "data": {
      "text/html": [
       "<div>\n",
       "<style scoped>\n",
       "    .dataframe tbody tr th:only-of-type {\n",
       "        vertical-align: middle;\n",
       "    }\n",
       "\n",
       "    .dataframe tbody tr th {\n",
       "        vertical-align: top;\n",
       "    }\n",
       "\n",
       "    .dataframe thead th {\n",
       "        text-align: right;\n",
       "    }\n",
       "</style>\n",
       "<table border=\"1\" class=\"dataframe\">\n",
       "  <thead>\n",
       "    <tr style=\"text-align: right;\">\n",
       "      <th></th>\n",
       "      <th>pd</th>\n",
       "      <th>sales</th>\n",
       "      <th>inv</th>\n",
       "    </tr>\n",
       "  </thead>\n",
       "  <tbody>\n",
       "    <tr>\n",
       "      <th>d1</th>\n",
       "      <td>112</td>\n",
       "      <td>115</td>\n",
       "      <td>100</td>\n",
       "    </tr>\n",
       "    <tr>\n",
       "      <th>d2</th>\n",
       "      <td>103</td>\n",
       "      <td>103</td>\n",
       "      <td>107</td>\n",
       "    </tr>\n",
       "    <tr>\n",
       "      <th>d3</th>\n",
       "      <td>109</td>\n",
       "      <td>119</td>\n",
       "      <td>118</td>\n",
       "    </tr>\n",
       "  </tbody>\n",
       "</table>\n",
       "</div>"
      ],
      "text/plain": [
       "     pd  sales  inv\n",
       "d1  112    115  100\n",
       "d2  103    103  107\n",
       "d3  109    119  118"
      ]
     },
     "execution_count": 56,
     "metadata": {},
     "output_type": "execute_result"
    }
   ],
   "source": [
    "# 배열을 데이터프레임(2차원)으로 변환\n",
    "import numpy as np\n",
    "import pandas as pd\n",
    "np.random.seed(0)\n",
    "data = np.random.randint(100, 120, size=(3,3)) # 3행 3열.짜리의 배열. 100에서 120사이\n",
    "\n",
    "df = pd.DataFrame(data, index=['d1','d2','d3'], columns = ['pd','sales','inv'])\n",
    "# df = pd.DataFrame(data) # 이렇게 하면 그냥 0 1 2 0 1 2\n",
    "# 만든배열data 가 들어가고, 행들에 인덱스 d1 d2 d3, 속성들에 pd sales inv\n",
    "df"
   ]
  },
  {
   "cell_type": "code",
   "execution_count": null,
   "id": "78c0c41e",
   "metadata": {},
   "outputs": [],
   "source": [
    "# pandas indexing : iloc 정수 인덱스, loc 이름 인덱스\n",
    "print(df.iloc[1]) # iloc 인덱스 1. 슬라이싱 생략가능 행, 열 순임\n",
    "# 현재 이름 인덱스지만 정수 인덱스로 뽑아줄 수 있음"
   ]
  },
  {
   "cell_type": "code",
   "execution_count": 69,
   "id": "71d8147f",
   "metadata": {
    "scrolled": true
   },
   "outputs": [
    {
     "name": "stdout",
     "output_type": "stream",
     "text": [
      "sales    103\n",
      "inv      107\n",
      "Name: d2, dtype: int32\n"
     ]
    }
   ],
   "source": [
    "# pandas indexing : iloc 정수 인덱스, loc 이름 인덱스\n",
    "print(df.iloc[1,:]) # iloc 인덱스 1.\n",
    "# 현재 이름 인덱스지만 정수 인덱스로 뽑아줄 수 있음"
   ]
  },
  {
   "cell_type": "code",
   "execution_count": 70,
   "id": "17852f5f",
   "metadata": {
    "scrolled": true
   },
   "outputs": [
    {
     "name": "stdout",
     "output_type": "stream",
     "text": [
      "pd       103\n",
      "sales    103\n",
      "inv      107\n",
      "Name: d2, dtype: int32\n"
     ]
    }
   ],
   "source": [
    "print(df.loc['d2',:]) # loc 인덱스 'd2' (이름인덱스)\n",
    "# iloc[1] = loc['d2']"
   ]
  },
  {
   "cell_type": "code",
   "execution_count": 88,
   "id": "95ab814d",
   "metadata": {},
   "outputs": [
    {
     "name": "stdout",
     "output_type": "stream",
     "text": [
      "107\n",
      "107\n"
     ]
    }
   ],
   "source": [
    "# 107만출력\n",
    "print(df.iloc[1,2])\n",
    "\n",
    "print(df.loc['d2','inv'])"
   ]
  },
  {
   "cell_type": "code",
   "execution_count": 87,
   "id": "7881205c",
   "metadata": {
    "scrolled": true
   },
   "outputs": [
    {
     "data": {
      "text/html": [
       "<div>\n",
       "<style scoped>\n",
       "    .dataframe tbody tr th:only-of-type {\n",
       "        vertical-align: middle;\n",
       "    }\n",
       "\n",
       "    .dataframe tbody tr th {\n",
       "        vertical-align: top;\n",
       "    }\n",
       "\n",
       "    .dataframe thead th {\n",
       "        text-align: right;\n",
       "    }\n",
       "</style>\n",
       "<table border=\"1\" class=\"dataframe\">\n",
       "  <thead>\n",
       "    <tr style=\"text-align: right;\">\n",
       "      <th></th>\n",
       "      <th>pd</th>\n",
       "      <th>sales</th>\n",
       "      <th>inv</th>\n",
       "    </tr>\n",
       "  </thead>\n",
       "  <tbody>\n",
       "    <tr>\n",
       "      <th>d1</th>\n",
       "      <td>112</td>\n",
       "      <td>115</td>\n",
       "      <td>100</td>\n",
       "    </tr>\n",
       "    <tr>\n",
       "      <th>d2</th>\n",
       "      <td>103</td>\n",
       "      <td>103</td>\n",
       "      <td>107</td>\n",
       "    </tr>\n",
       "    <tr>\n",
       "      <th>d3</th>\n",
       "      <td>0</td>\n",
       "      <td>0</td>\n",
       "      <td>0</td>\n",
       "    </tr>\n",
       "  </tbody>\n",
       "</table>\n",
       "</div>"
      ],
      "text/plain": [
       "     pd  sales  inv\n",
       "d1  112    115  100\n",
       "d2  103    103  107\n",
       "d3    0      0    0"
      ]
     },
     "execution_count": 87,
     "metadata": {},
     "output_type": "execute_result"
    }
   ],
   "source": [
    "df.loc['d3']=0\n",
    "df"
   ]
  },
  {
   "cell_type": "code",
   "execution_count": null,
   "id": "4629989d",
   "metadata": {},
   "outputs": [],
   "source": []
  },
  {
   "cell_type": "code",
   "execution_count": null,
   "id": "e6e67594",
   "metadata": {},
   "outputs": [],
   "source": []
  },
  {
   "cell_type": "code",
   "execution_count": 159,
   "id": "9824f8ba",
   "metadata": {},
   "outputs": [
    {
     "data": {
      "text/plain": [
       "[[3, 3, 2, 4, 3],\n",
       " [4, 1, 1, 1, 3],\n",
       " [2, 1, 1, 4, 3],\n",
       " [3, 4, 3, 4, 2],\n",
       " [4, 2, 3, 1, 3],\n",
       " [1, 3, 4, 4, 2],\n",
       " [4, 1, 4, 2, 1],\n",
       " [1, 3, 1, 4, 3],\n",
       " [2, 3, 2, 2, 3],\n",
       " [1, 4, 2, 1, 2]]"
      ]
     },
     "execution_count": 159,
     "metadata": {},
     "output_type": "execute_result"
    }
   ],
   "source": [
    "# 2차원 리스트를 데이터프레임으로 변환\n",
    "a = np.random.randint(1,5,size=(10,5))\n",
    "list1 = a.tolist()\n",
    "list1"
   ]
  },
  {
   "cell_type": "code",
   "execution_count": 180,
   "id": "63497283",
   "metadata": {},
   "outputs": [
    {
     "data": {
      "text/html": [
       "<div>\n",
       "<style scoped>\n",
       "    .dataframe tbody tr th:only-of-type {\n",
       "        vertical-align: middle;\n",
       "    }\n",
       "\n",
       "    .dataframe tbody tr th {\n",
       "        vertical-align: top;\n",
       "    }\n",
       "\n",
       "    .dataframe thead th {\n",
       "        text-align: right;\n",
       "    }\n",
       "</style>\n",
       "<table border=\"1\" class=\"dataframe\">\n",
       "  <thead>\n",
       "    <tr style=\"text-align: right;\">\n",
       "      <th></th>\n",
       "      <th>c1</th>\n",
       "      <th>c2</th>\n",
       "      <th>c3</th>\n",
       "      <th>c4</th>\n",
       "      <th>c5</th>\n",
       "    </tr>\n",
       "  </thead>\n",
       "  <tbody>\n",
       "    <tr>\n",
       "      <th>0</th>\n",
       "      <td>3</td>\n",
       "      <td>3</td>\n",
       "      <td>2</td>\n",
       "      <td>4</td>\n",
       "      <td>3</td>\n",
       "    </tr>\n",
       "    <tr>\n",
       "      <th>1</th>\n",
       "      <td>4</td>\n",
       "      <td>1</td>\n",
       "      <td>1</td>\n",
       "      <td>1</td>\n",
       "      <td>3</td>\n",
       "    </tr>\n",
       "    <tr>\n",
       "      <th>2</th>\n",
       "      <td>2</td>\n",
       "      <td>1</td>\n",
       "      <td>1</td>\n",
       "      <td>4</td>\n",
       "      <td>3</td>\n",
       "    </tr>\n",
       "    <tr>\n",
       "      <th>3</th>\n",
       "      <td>3</td>\n",
       "      <td>4</td>\n",
       "      <td>3</td>\n",
       "      <td>4</td>\n",
       "      <td>2</td>\n",
       "    </tr>\n",
       "    <tr>\n",
       "      <th>4</th>\n",
       "      <td>4</td>\n",
       "      <td>2</td>\n",
       "      <td>3</td>\n",
       "      <td>1</td>\n",
       "      <td>3</td>\n",
       "    </tr>\n",
       "    <tr>\n",
       "      <th>5</th>\n",
       "      <td>1</td>\n",
       "      <td>3</td>\n",
       "      <td>4</td>\n",
       "      <td>4</td>\n",
       "      <td>2</td>\n",
       "    </tr>\n",
       "    <tr>\n",
       "      <th>6</th>\n",
       "      <td>4</td>\n",
       "      <td>1</td>\n",
       "      <td>4</td>\n",
       "      <td>2</td>\n",
       "      <td>1</td>\n",
       "    </tr>\n",
       "    <tr>\n",
       "      <th>7</th>\n",
       "      <td>1</td>\n",
       "      <td>3</td>\n",
       "      <td>1</td>\n",
       "      <td>4</td>\n",
       "      <td>3</td>\n",
       "    </tr>\n",
       "    <tr>\n",
       "      <th>8</th>\n",
       "      <td>2</td>\n",
       "      <td>3</td>\n",
       "      <td>2</td>\n",
       "      <td>2</td>\n",
       "      <td>3</td>\n",
       "    </tr>\n",
       "    <tr>\n",
       "      <th>9</th>\n",
       "      <td>1</td>\n",
       "      <td>4</td>\n",
       "      <td>2</td>\n",
       "      <td>1</td>\n",
       "      <td>2</td>\n",
       "    </tr>\n",
       "  </tbody>\n",
       "</table>\n",
       "</div>"
      ],
      "text/plain": [
       "   c1  c2  c3  c4  c5\n",
       "0   3   3   2   4   3\n",
       "1   4   1   1   1   3\n",
       "2   2   1   1   4   3\n",
       "3   3   4   3   4   2\n",
       "4   4   2   3   1   3\n",
       "5   1   3   4   4   2\n",
       "6   4   1   4   2   1\n",
       "7   1   3   1   4   3\n",
       "8   2   3   2   2   3\n",
       "9   1   4   2   1   2"
      ]
     },
     "execution_count": 180,
     "metadata": {},
     "output_type": "execute_result"
    }
   ],
   "source": [
    "import pandas as pd\n",
    "import numpy as np\n",
    "\n",
    "df1 = pd.DataFrame(list1,columns=['c1','c2','c3','c4','c5'])\n",
    "df1\n",
    "# df1.head(3) # 앞에서 3개\n",
    "# df1.tail() # 뒤에서 뽑기 기본값 5개"
   ]
  },
  {
   "cell_type": "code",
   "execution_count": 207,
   "id": "6429e243",
   "metadata": {},
   "outputs": [
    {
     "name": "stdout",
     "output_type": "stream",
     "text": [
      "[[3 3 2 4 3]\n",
      " [4 1 1 1 3]\n",
      " [2 1 1 4 3]\n",
      " [3 4 3 4 2]\n",
      " [4 2 3 1 3]\n",
      " [1 3 4 4 2]\n",
      " [4 1 4 2 1]\n",
      " [1 3 1 4 3]\n",
      " [2 3 2 2 3]\n",
      " [1 4 2 1 2]] <class 'numpy.ndarray'>\n",
      "\n",
      "[[3, 3, 2, 4, 3], [4, 1, 1, 1, 3], [2, 1, 1, 4, 3], [3, 4, 3, 4, 2], [4, 2, 3, 1, 3], [1, 3, 4, 4, 2], [4, 1, 4, 2, 1], [1, 3, 1, 4, 3], [2, 3, 2, 2, 3], [1, 4, 2, 1, 2]] <class 'list'>\n",
      "\n",
      "{'c1': {0: 3, 1: 4, 2: 2, 3: 3, 4: 4, 5: 1, 6: 4, 7: 1, 8: 2, 9: 1}, 'c2': {0: 3, 1: 1, 2: 1, 3: 4, 4: 2, 5: 3, 6: 1, 7: 3, 8: 3, 9: 4}, 'c3': {0: 2, 1: 1, 2: 1, 3: 3, 4: 3, 5: 4, 6: 4, 7: 1, 8: 2, 9: 2}, 'c4': {0: 4, 1: 1, 2: 4, 3: 4, 4: 1, 5: 4, 6: 2, 7: 4, 8: 2, 9: 1}, 'c5': {0: 3, 1: 3, 2: 3, 3: 2, 4: 3, 5: 2, 6: 1, 7: 3, 8: 3, 9: 2}} <class 'dict'>\n",
      "\n",
      "{'c1': [3, 4, 2, 3, 4, 1, 4, 1, 2, 1], 'c2': [3, 1, 1, 4, 2, 3, 1, 3, 3, 4], 'c3': [2, 1, 1, 3, 3, 4, 4, 1, 2, 2], 'c4': [4, 1, 4, 4, 1, 4, 2, 4, 2, 1], 'c5': [3, 3, 3, 2, 3, 2, 1, 3, 3, 2]} <class 'dict'>\n"
     ]
    }
   ],
   "source": [
    "# 데이터프레임을 배열, 리스트, 딕셔너리로 변환\n",
    "ar = df1.values # 배열\n",
    "print(ar, type(ar))\n",
    "print()\n",
    "li=ar.tolist() #리스트\n",
    "print(li,type(li))\n",
    "print()\n",
    "\n",
    "# 이렇게 하면 키 밸류 가 키 c1 인데 밸류가 {0:3, ~} 이런식으로 딕셔너리안에 딕셔너리로 되는데.. 이러면 안되니까 밸류를 리스트화시켜야함\n",
    "dict = df1.to_dict() \n",
    "print(dict,type(dict))\n",
    "#{'c1': {0: 3, 1: 4, 2: 2, 3: 3, 4: 4, 5: 1, 6: 4, 7: 1, 8: 2, 9: 1}, 'c2': {0: 3, 1: 1, 2: 1, 3: 4, 4: 2, 5: 3, 6: 1, 7: 3, 8: 3, 9: 4}, 'c3': {0: 2, 1: 1, 2: 1, 3: 3, 4: 3, 5: 4, 6: 4, 7: 1, 8: 2, 9: 2}, 'c4': {0: 4, 1: 1, 2: 4, 3: 4, 4: 1, 5: 4, 6: 2, 7: 4, 8: 2, 9: 1}, 'c5': {0: 3, 1: 3, 2: 3, 3: 2, 4: 3, 5: 2, 6: 1, 7: 3, 8: 3, 9: 2}} <class 'dict'>\n",
    "\n",
    "# dict = df1.to_dict('list') 이런식으로 따옴표 리스트로 컬럼의 값들이 여러개일때 키 str : 밸류[] 이렇게 하면 됨\n",
    "print()\n",
    "dict = df1.to_dict('list')\n",
    "print(dict,type(dict))\n",
    "#{'c1': [3, 4, 2, 3, 4, 1, 4, 1, 2, 1], 'c2': [3, 1, 1, 4, 2, 3, 1, 3, 3, 4], 'c3': [2, 1, 1, 3, 3, 4, 4, 1, 2, 2], 'c4': [4, 1, 4, 4, 1, 4, 2, 4, 2, 1], 'c5': [3, 3, 3, 2, 3, 2, 1, 3, 3, 2]} <class 'dict'> "
   ]
  },
  {
   "cell_type": "markdown",
   "id": "27f0e84f",
   "metadata": {},
   "source": [
    "#### 과제2_1121: 5행 5열로 구성된 2차원 배열을 생성하여 데이터프레임으로 변경해서 출력하세요."
   ]
  },
  {
   "cell_type": "code",
   "execution_count": 211,
   "id": "d9197e5a",
   "metadata": {},
   "outputs": [
    {
     "data": {
      "text/html": [
       "<div>\n",
       "<style scoped>\n",
       "    .dataframe tbody tr th:only-of-type {\n",
       "        vertical-align: middle;\n",
       "    }\n",
       "\n",
       "    .dataframe tbody tr th {\n",
       "        vertical-align: top;\n",
       "    }\n",
       "\n",
       "    .dataframe thead th {\n",
       "        text-align: right;\n",
       "    }\n",
       "</style>\n",
       "<table border=\"1\" class=\"dataframe\">\n",
       "  <thead>\n",
       "    <tr style=\"text-align: right;\">\n",
       "      <th></th>\n",
       "      <th>c1</th>\n",
       "      <th>c2</th>\n",
       "      <th>c3</th>\n",
       "      <th>c4</th>\n",
       "      <th>c5</th>\n",
       "    </tr>\n",
       "  </thead>\n",
       "  <tbody>\n",
       "    <tr>\n",
       "      <th>1</th>\n",
       "      <td>3</td>\n",
       "      <td>8</td>\n",
       "      <td>9</td>\n",
       "      <td>10</td>\n",
       "      <td>7</td>\n",
       "    </tr>\n",
       "    <tr>\n",
       "      <th>2</th>\n",
       "      <td>10</td>\n",
       "      <td>9</td>\n",
       "      <td>6</td>\n",
       "      <td>1</td>\n",
       "      <td>1</td>\n",
       "    </tr>\n",
       "    <tr>\n",
       "      <th>3</th>\n",
       "      <td>10</td>\n",
       "      <td>5</td>\n",
       "      <td>7</td>\n",
       "      <td>1</td>\n",
       "      <td>10</td>\n",
       "    </tr>\n",
       "    <tr>\n",
       "      <th>4</th>\n",
       "      <td>5</td>\n",
       "      <td>3</td>\n",
       "      <td>3</td>\n",
       "      <td>5</td>\n",
       "      <td>8</td>\n",
       "    </tr>\n",
       "    <tr>\n",
       "      <th>5</th>\n",
       "      <td>2</td>\n",
       "      <td>10</td>\n",
       "      <td>7</td>\n",
       "      <td>5</td>\n",
       "      <td>7</td>\n",
       "    </tr>\n",
       "  </tbody>\n",
       "</table>\n",
       "</div>"
      ],
      "text/plain": [
       "   c1  c2  c3  c4  c5\n",
       "1   3   8   9  10   7\n",
       "2  10   9   6   1   1\n",
       "3  10   5   7   1  10\n",
       "4   5   3   3   5   8\n",
       "5   2  10   7   5   7"
      ]
     },
     "execution_count": 211,
     "metadata": {},
     "output_type": "execute_result"
    }
   ],
   "source": [
    "# 과제2_1121 솔루션\n",
    "import pandas as pd\n",
    "import numpy as np\n",
    "data_number = np.random.randint(1,11,size=(5,5))\n",
    "# print(data_number)\n",
    "dataframe = pd.DataFrame(data_number, index=[1,2,3,4,5], columns=['c1','c2','c3','c4','c5'])\n",
    "dataframe"
   ]
  },
  {
   "cell_type": "markdown",
   "id": "d30b3e41",
   "metadata": {},
   "source": [
    "#### 과제3_1121: 과제 2번의 데이터프레임을 각각 배열, 리스트, 사전의 형태로 변환하여 출력하세요."
   ]
  },
  {
   "cell_type": "code",
   "execution_count": 226,
   "id": "8e8e0cb5",
   "metadata": {},
   "outputs": [
    {
     "name": "stdout",
     "output_type": "stream",
     "text": [
      "[[ 3  8  9 10  7]\n",
      " [10  9  6  1  1]\n",
      " [10  5  7  1 10]\n",
      " [ 5  3  3  5  8]\n",
      " [ 2 10  7  5  7]]\n",
      "\n",
      "[[3, 8, 9, 10, 7], [10, 9, 6, 1, 1], [10, 5, 7, 1, 10], [5, 3, 3, 5, 8], [2, 10, 7, 5, 7]]\n",
      "\n",
      "{'c1': [3, 10, 10, 5, 2], 'c2': [8, 9, 5, 3, 10], 'c3': [9, 6, 7, 3, 7], 'c4': [10, 1, 1, 5, 5], 'c5': [7, 1, 10, 8, 7]}\n"
     ]
    }
   ],
   "source": [
    "# 과제3_1121 솔루션\n",
    "by = dataframe.values\n",
    "print(by)\n",
    "print()\n",
    "\n",
    "lst = by.tolist()\n",
    "print(lst)\n",
    "print()\n",
    "\n",
    "sj = dataframe.to_dict('list')\n",
    "print(sj)"
   ]
  },
  {
   "cell_type": "markdown",
   "id": "b5b5e47c",
   "metadata": {},
   "source": [
    "#### 과제4_1121 : 4개의 Series를 결합하여 데이터프레임을 생성하여 출력하세요.\n",
    "- 출력한 데이터프레임에서 추출하고 싶은 5개의 데이터를 인덱싱하여 출력\n",
    "- null값을 3개 추가\n",
    "- null값의 개수를 확인하고 삭제\n",
    "- 2개의 데이터를 수정\n",
    "- 1개의 행을 삭제"
   ]
  },
  {
   "cell_type": "code",
   "execution_count": 235,
   "id": "7bccad39",
   "metadata": {},
   "outputs": [
    {
     "name": "stdout",
     "output_type": "stream",
     "text": [
      "0         1\n",
      "1         2\n",
      "2         3\n",
      "3         4\n",
      "4         5\n",
      "       ... \n",
      "995     996\n",
      "996     997\n",
      "997     998\n",
      "998     999\n",
      "999    1000\n",
      "Length: 1000, dtype: int32\n"
     ]
    }
   ],
   "source": [
    "# 과제4_1121 솔루션\n",
    "# id, gender, age, region\n",
    "import pandas as pd\n",
    "id = np.arange(1,1001)\n",
    "i1 = pd.Series(id)\n",
    "gender = np.random.randint(2,size=1000)\n",
    "g1 = pd.Series(gender)\n",
    "age = np.random.randint(1,101,size=1000)\n",
    "a1 = pd.Series(age)\n",
    "region = np.random.randint(1,11,size=1000)\n",
    "r1 = pd.Series(region)\n",
    "print(i1)\n",
    "\n",
    "df_1 = pd.concat([i1,g1,a1,r1],axis=1)"
   ]
  },
  {
   "cell_type": "code",
   "execution_count": 328,
   "id": "136fa3c7",
   "metadata": {
    "scrolled": true
   },
   "outputs": [
    {
     "name": "stdout",
     "output_type": "stream",
     "text": [
      "0    1000.0\n",
      "1       1.0\n",
      "2      31.0\n",
      "3       1.0\n",
      "Name: 999, dtype: float64\n",
      "\n",
      "Series([], Name: 0, dtype: float64)\n",
      "\n",
      "       0    1     2    3\n",
      "0    1.0  1.0  81.0  2.0\n",
      "3    NaN  NaN   NaN  NaN\n",
      "6    NaN  NaN   NaN  NaN\n",
      "9    NaN  NaN   NaN  NaN\n",
      "12   NaN  NaN   NaN  NaN\n",
      "..   ...  ...   ...  ...\n",
      "984  NaN  NaN   NaN  NaN\n",
      "987  NaN  NaN   NaN  NaN\n",
      "990  NaN  NaN   NaN  NaN\n",
      "993  NaN  NaN   NaN  NaN\n",
      "996  NaN  NaN   NaN  NaN\n",
      "\n",
      "[333 rows x 4 columns]\n",
      "\n",
      "          0    1     2    3\n",
      "123     NaN  NaN   NaN  NaN\n",
      "124     NaN  NaN   NaN  NaN\n",
      "125     NaN  NaN   NaN  NaN\n",
      "126     NaN  NaN   NaN  NaN\n",
      "127     NaN  NaN   NaN  NaN\n",
      "..      ...  ...   ...  ...\n",
      "995     NaN  NaN   NaN  NaN\n",
      "996     NaN  NaN   NaN  NaN\n",
      "997     NaN  NaN   NaN  NaN\n",
      "998     NaN  NaN   NaN  NaN\n",
      "999  1000.0  1.0  31.0  1.0\n",
      "\n",
      "[877 rows x 4 columns]\n",
      "\n",
      "nan\n"
     ]
    }
   ],
   "source": [
    "print(df_1.iloc[-1])\n",
    "print()\n",
    "print(df_1.iloc[-1000,1:1])\n",
    "print()\n",
    "print(df_1.iloc[-1000:-2:3])\n",
    "print()\n",
    "print(df_1.iloc[123:100000])\n",
    "print()\n",
    "print(df_1.iloc[333,3])"
   ]
  },
  {
   "cell_type": "code",
   "execution_count": 329,
   "id": "38714b23",
   "metadata": {},
   "outputs": [
    {
     "data": {
      "text/html": [
       "<div>\n",
       "<style scoped>\n",
       "    .dataframe tbody tr th:only-of-type {\n",
       "        vertical-align: middle;\n",
       "    }\n",
       "\n",
       "    .dataframe tbody tr th {\n",
       "        vertical-align: top;\n",
       "    }\n",
       "\n",
       "    .dataframe thead th {\n",
       "        text-align: right;\n",
       "    }\n",
       "</style>\n",
       "<table border=\"1\" class=\"dataframe\">\n",
       "  <thead>\n",
       "    <tr style=\"text-align: right;\">\n",
       "      <th></th>\n",
       "      <th>0</th>\n",
       "      <th>1</th>\n",
       "      <th>2</th>\n",
       "      <th>3</th>\n",
       "    </tr>\n",
       "  </thead>\n",
       "  <tbody>\n",
       "    <tr>\n",
       "      <th>0</th>\n",
       "      <td>1.0</td>\n",
       "      <td>1.0</td>\n",
       "      <td>81.0</td>\n",
       "      <td>2.0</td>\n",
       "    </tr>\n",
       "    <tr>\n",
       "      <th>1</th>\n",
       "      <td>NaN</td>\n",
       "      <td>NaN</td>\n",
       "      <td>NaN</td>\n",
       "      <td>NaN</td>\n",
       "    </tr>\n",
       "    <tr>\n",
       "      <th>2</th>\n",
       "      <td>3.0</td>\n",
       "      <td>NaN</td>\n",
       "      <td>99.0</td>\n",
       "      <td>5.0</td>\n",
       "    </tr>\n",
       "    <tr>\n",
       "      <th>3</th>\n",
       "      <td>NaN</td>\n",
       "      <td>NaN</td>\n",
       "      <td>NaN</td>\n",
       "      <td>NaN</td>\n",
       "    </tr>\n",
       "    <tr>\n",
       "      <th>4</th>\n",
       "      <td>NaN</td>\n",
       "      <td>NaN</td>\n",
       "      <td>NaN</td>\n",
       "      <td>NaN</td>\n",
       "    </tr>\n",
       "    <tr>\n",
       "      <th>...</th>\n",
       "      <td>...</td>\n",
       "      <td>...</td>\n",
       "      <td>...</td>\n",
       "      <td>...</td>\n",
       "    </tr>\n",
       "    <tr>\n",
       "      <th>995</th>\n",
       "      <td>NaN</td>\n",
       "      <td>NaN</td>\n",
       "      <td>NaN</td>\n",
       "      <td>NaN</td>\n",
       "    </tr>\n",
       "    <tr>\n",
       "      <th>996</th>\n",
       "      <td>NaN</td>\n",
       "      <td>NaN</td>\n",
       "      <td>NaN</td>\n",
       "      <td>NaN</td>\n",
       "    </tr>\n",
       "    <tr>\n",
       "      <th>997</th>\n",
       "      <td>NaN</td>\n",
       "      <td>NaN</td>\n",
       "      <td>NaN</td>\n",
       "      <td>NaN</td>\n",
       "    </tr>\n",
       "    <tr>\n",
       "      <th>998</th>\n",
       "      <td>NaN</td>\n",
       "      <td>NaN</td>\n",
       "      <td>NaN</td>\n",
       "      <td>NaN</td>\n",
       "    </tr>\n",
       "    <tr>\n",
       "      <th>999</th>\n",
       "      <td>1000.0</td>\n",
       "      <td>1.0</td>\n",
       "      <td>31.0</td>\n",
       "      <td>1.0</td>\n",
       "    </tr>\n",
       "  </tbody>\n",
       "</table>\n",
       "<p>1000 rows × 4 columns</p>\n",
       "</div>"
      ],
      "text/plain": [
       "          0    1     2    3\n",
       "0       1.0  1.0  81.0  2.0\n",
       "1       NaN  NaN   NaN  NaN\n",
       "2       3.0  NaN  99.0  5.0\n",
       "3       NaN  NaN   NaN  NaN\n",
       "4       NaN  NaN   NaN  NaN\n",
       "..      ...  ...   ...  ...\n",
       "995     NaN  NaN   NaN  NaN\n",
       "996     NaN  NaN   NaN  NaN\n",
       "997     NaN  NaN   NaN  NaN\n",
       "998     NaN  NaN   NaN  NaN\n",
       "999  1000.0  1.0  31.0  1.0\n",
       "\n",
       "[1000 rows x 4 columns]"
      ]
     },
     "execution_count": 329,
     "metadata": {},
     "output_type": "execute_result"
    }
   ],
   "source": [
    "df_1.iloc[1,1] = np.nan # (np.nan 으로 널값만들기)\n",
    "df_1\n",
    "\n",
    "\n"
   ]
  },
  {
   "cell_type": "code",
   "execution_count": 330,
   "id": "a799023f",
   "metadata": {},
   "outputs": [
    {
     "data": {
      "text/html": [
       "<div>\n",
       "<style scoped>\n",
       "    .dataframe tbody tr th:only-of-type {\n",
       "        vertical-align: middle;\n",
       "    }\n",
       "\n",
       "    .dataframe tbody tr th {\n",
       "        vertical-align: top;\n",
       "    }\n",
       "\n",
       "    .dataframe thead th {\n",
       "        text-align: right;\n",
       "    }\n",
       "</style>\n",
       "<table border=\"1\" class=\"dataframe\">\n",
       "  <thead>\n",
       "    <tr style=\"text-align: right;\">\n",
       "      <th></th>\n",
       "      <th>0</th>\n",
       "      <th>1</th>\n",
       "      <th>2</th>\n",
       "      <th>3</th>\n",
       "    </tr>\n",
       "  </thead>\n",
       "  <tbody>\n",
       "    <tr>\n",
       "      <th>0</th>\n",
       "      <td>1.0</td>\n",
       "      <td>1.0</td>\n",
       "      <td>81.0</td>\n",
       "      <td>2.0</td>\n",
       "    </tr>\n",
       "    <tr>\n",
       "      <th>999</th>\n",
       "      <td>1000.0</td>\n",
       "      <td>1.0</td>\n",
       "      <td>31.0</td>\n",
       "      <td>1.0</td>\n",
       "    </tr>\n",
       "  </tbody>\n",
       "</table>\n",
       "</div>"
      ],
      "text/plain": [
       "          0    1     2    3\n",
       "0       1.0  1.0  81.0  2.0\n",
       "999  1000.0  1.0  31.0  1.0"
      ]
     },
     "execution_count": 330,
     "metadata": {},
     "output_type": "execute_result"
    }
   ],
   "source": [
    "dropped_df_1 = df_1.dropna()\n",
    "dropped_df_1"
   ]
  },
  {
   "cell_type": "code",
   "execution_count": 331,
   "id": "b41d1bbb",
   "metadata": {},
   "outputs": [
    {
     "data": {
      "text/html": [
       "<div>\n",
       "<style scoped>\n",
       "    .dataframe tbody tr th:only-of-type {\n",
       "        vertical-align: middle;\n",
       "    }\n",
       "\n",
       "    .dataframe tbody tr th {\n",
       "        vertical-align: top;\n",
       "    }\n",
       "\n",
       "    .dataframe thead th {\n",
       "        text-align: right;\n",
       "    }\n",
       "</style>\n",
       "<table border=\"1\" class=\"dataframe\">\n",
       "  <thead>\n",
       "    <tr style=\"text-align: right;\">\n",
       "      <th></th>\n",
       "      <th>0</th>\n",
       "      <th>1</th>\n",
       "      <th>2</th>\n",
       "      <th>3</th>\n",
       "    </tr>\n",
       "  </thead>\n",
       "  <tbody>\n",
       "    <tr>\n",
       "      <th>0</th>\n",
       "      <td>1.0</td>\n",
       "      <td>1.0</td>\n",
       "      <td>81.0</td>\n",
       "      <td>2.0</td>\n",
       "    </tr>\n",
       "    <tr>\n",
       "      <th>1</th>\n",
       "      <td>123.0</td>\n",
       "      <td>123.0</td>\n",
       "      <td>123.0</td>\n",
       "      <td>123.0</td>\n",
       "    </tr>\n",
       "    <tr>\n",
       "      <th>2</th>\n",
       "      <td>3.0</td>\n",
       "      <td>123.0</td>\n",
       "      <td>99.0</td>\n",
       "      <td>5.0</td>\n",
       "    </tr>\n",
       "    <tr>\n",
       "      <th>3</th>\n",
       "      <td>123.0</td>\n",
       "      <td>123.0</td>\n",
       "      <td>123.0</td>\n",
       "      <td>123.0</td>\n",
       "    </tr>\n",
       "    <tr>\n",
       "      <th>4</th>\n",
       "      <td>123.0</td>\n",
       "      <td>123.0</td>\n",
       "      <td>123.0</td>\n",
       "      <td>123.0</td>\n",
       "    </tr>\n",
       "    <tr>\n",
       "      <th>...</th>\n",
       "      <td>...</td>\n",
       "      <td>...</td>\n",
       "      <td>...</td>\n",
       "      <td>...</td>\n",
       "    </tr>\n",
       "    <tr>\n",
       "      <th>995</th>\n",
       "      <td>123.0</td>\n",
       "      <td>123.0</td>\n",
       "      <td>123.0</td>\n",
       "      <td>123.0</td>\n",
       "    </tr>\n",
       "    <tr>\n",
       "      <th>996</th>\n",
       "      <td>123.0</td>\n",
       "      <td>123.0</td>\n",
       "      <td>123.0</td>\n",
       "      <td>123.0</td>\n",
       "    </tr>\n",
       "    <tr>\n",
       "      <th>997</th>\n",
       "      <td>123.0</td>\n",
       "      <td>123.0</td>\n",
       "      <td>123.0</td>\n",
       "      <td>123.0</td>\n",
       "    </tr>\n",
       "    <tr>\n",
       "      <th>998</th>\n",
       "      <td>123.0</td>\n",
       "      <td>123.0</td>\n",
       "      <td>123.0</td>\n",
       "      <td>123.0</td>\n",
       "    </tr>\n",
       "    <tr>\n",
       "      <th>999</th>\n",
       "      <td>1000.0</td>\n",
       "      <td>1.0</td>\n",
       "      <td>31.0</td>\n",
       "      <td>1.0</td>\n",
       "    </tr>\n",
       "  </tbody>\n",
       "</table>\n",
       "<p>1000 rows × 4 columns</p>\n",
       "</div>"
      ],
      "text/plain": [
       "          0      1      2      3\n",
       "0       1.0    1.0   81.0    2.0\n",
       "1     123.0  123.0  123.0  123.0\n",
       "2       3.0  123.0   99.0    5.0\n",
       "3     123.0  123.0  123.0  123.0\n",
       "4     123.0  123.0  123.0  123.0\n",
       "..      ...    ...    ...    ...\n",
       "995   123.0  123.0  123.0  123.0\n",
       "996   123.0  123.0  123.0  123.0\n",
       "997   123.0  123.0  123.0  123.0\n",
       "998   123.0  123.0  123.0  123.0\n",
       "999  1000.0    1.0   31.0    1.0\n",
       "\n",
       "[1000 rows x 4 columns]"
      ]
     },
     "execution_count": 331,
     "metadata": {},
     "output_type": "execute_result"
    }
   ],
   "source": [
    "filled_df_1 = df_1.fillna(123)\n",
    "filled_df_1"
   ]
  },
  {
   "cell_type": "code",
   "execution_count": 332,
   "id": "7d5b8e0a",
   "metadata": {},
   "outputs": [
    {
     "data": {
      "text/plain": [
       "0    0\n",
       "1    0\n",
       "2    0\n",
       "3    0\n",
       "dtype: int64"
      ]
     },
     "execution_count": 332,
     "metadata": {},
     "output_type": "execute_result"
    }
   ],
   "source": [
    "dropped_df_1.isnull().sum()"
   ]
  },
  {
   "cell_type": "code",
   "execution_count": 333,
   "id": "62e45496",
   "metadata": {},
   "outputs": [
    {
     "data": {
      "text/plain": [
       "0    997\n",
       "1    998\n",
       "2    997\n",
       "3    997\n",
       "dtype: int64"
      ]
     },
     "execution_count": 333,
     "metadata": {},
     "output_type": "execute_result"
    }
   ],
   "source": [
    "null_df_1 = df_1.isnull()\n",
    "null_df_1\n",
    "null_df_1.sum()"
   ]
  },
  {
   "cell_type": "code",
   "execution_count": 334,
   "id": "0b979c63",
   "metadata": {},
   "outputs": [
    {
     "data": {
      "text/html": [
       "<div>\n",
       "<style scoped>\n",
       "    .dataframe tbody tr th:only-of-type {\n",
       "        vertical-align: middle;\n",
       "    }\n",
       "\n",
       "    .dataframe tbody tr th {\n",
       "        vertical-align: top;\n",
       "    }\n",
       "\n",
       "    .dataframe thead th {\n",
       "        text-align: right;\n",
       "    }\n",
       "</style>\n",
       "<table border=\"1\" class=\"dataframe\">\n",
       "  <thead>\n",
       "    <tr style=\"text-align: right;\">\n",
       "      <th></th>\n",
       "      <th>0</th>\n",
       "      <th>1</th>\n",
       "      <th>2</th>\n",
       "      <th>3</th>\n",
       "    </tr>\n",
       "  </thead>\n",
       "  <tbody>\n",
       "    <tr>\n",
       "      <th>0</th>\n",
       "      <td>True</td>\n",
       "      <td>True</td>\n",
       "      <td>True</td>\n",
       "      <td>True</td>\n",
       "    </tr>\n",
       "    <tr>\n",
       "      <th>1</th>\n",
       "      <td>False</td>\n",
       "      <td>False</td>\n",
       "      <td>False</td>\n",
       "      <td>False</td>\n",
       "    </tr>\n",
       "    <tr>\n",
       "      <th>2</th>\n",
       "      <td>True</td>\n",
       "      <td>False</td>\n",
       "      <td>True</td>\n",
       "      <td>True</td>\n",
       "    </tr>\n",
       "    <tr>\n",
       "      <th>3</th>\n",
       "      <td>False</td>\n",
       "      <td>False</td>\n",
       "      <td>False</td>\n",
       "      <td>False</td>\n",
       "    </tr>\n",
       "    <tr>\n",
       "      <th>4</th>\n",
       "      <td>False</td>\n",
       "      <td>False</td>\n",
       "      <td>False</td>\n",
       "      <td>False</td>\n",
       "    </tr>\n",
       "    <tr>\n",
       "      <th>...</th>\n",
       "      <td>...</td>\n",
       "      <td>...</td>\n",
       "      <td>...</td>\n",
       "      <td>...</td>\n",
       "    </tr>\n",
       "    <tr>\n",
       "      <th>995</th>\n",
       "      <td>False</td>\n",
       "      <td>False</td>\n",
       "      <td>False</td>\n",
       "      <td>False</td>\n",
       "    </tr>\n",
       "    <tr>\n",
       "      <th>996</th>\n",
       "      <td>False</td>\n",
       "      <td>False</td>\n",
       "      <td>False</td>\n",
       "      <td>False</td>\n",
       "    </tr>\n",
       "    <tr>\n",
       "      <th>997</th>\n",
       "      <td>False</td>\n",
       "      <td>False</td>\n",
       "      <td>False</td>\n",
       "      <td>False</td>\n",
       "    </tr>\n",
       "    <tr>\n",
       "      <th>998</th>\n",
       "      <td>False</td>\n",
       "      <td>False</td>\n",
       "      <td>False</td>\n",
       "      <td>False</td>\n",
       "    </tr>\n",
       "    <tr>\n",
       "      <th>999</th>\n",
       "      <td>True</td>\n",
       "      <td>True</td>\n",
       "      <td>True</td>\n",
       "      <td>True</td>\n",
       "    </tr>\n",
       "  </tbody>\n",
       "</table>\n",
       "<p>1000 rows × 4 columns</p>\n",
       "</div>"
      ],
      "text/plain": [
       "         0      1      2      3\n",
       "0     True   True   True   True\n",
       "1    False  False  False  False\n",
       "2     True  False   True   True\n",
       "3    False  False  False  False\n",
       "4    False  False  False  False\n",
       "..     ...    ...    ...    ...\n",
       "995  False  False  False  False\n",
       "996  False  False  False  False\n",
       "997  False  False  False  False\n",
       "998  False  False  False  False\n",
       "999   True   True   True   True\n",
       "\n",
       "[1000 rows x 4 columns]"
      ]
     },
     "execution_count": 334,
     "metadata": {},
     "output_type": "execute_result"
    }
   ],
   "source": [
    "not_null_df_1 = df_1.notnull()\n",
    "not_null_df_1"
   ]
  },
  {
   "cell_type": "code",
   "execution_count": null,
   "id": "64754d96",
   "metadata": {},
   "outputs": [],
   "source": []
  },
  {
   "cell_type": "code",
   "execution_count": null,
   "id": "3438d288",
   "metadata": {},
   "outputs": [],
   "source": []
  },
  {
   "cell_type": "code",
   "execution_count": null,
   "id": "97e8a1fb",
   "metadata": {},
   "outputs": [],
   "source": []
  },
  {
   "cell_type": "code",
   "execution_count": null,
   "id": "14920410",
   "metadata": {},
   "outputs": [],
   "source": []
  },
  {
   "cell_type": "code",
   "execution_count": null,
   "id": "1992138f",
   "metadata": {},
   "outputs": [],
   "source": []
  },
  {
   "cell_type": "code",
   "execution_count": null,
   "id": "9f1186cd",
   "metadata": {},
   "outputs": [],
   "source": []
  },
  {
   "cell_type": "code",
   "execution_count": null,
   "id": "8d3943c4",
   "metadata": {},
   "outputs": [],
   "source": []
  },
  {
   "cell_type": "code",
   "execution_count": null,
   "id": "7d74c963",
   "metadata": {},
   "outputs": [],
   "source": []
  }
 ],
 "metadata": {
  "kernelspec": {
   "display_name": "Python 3 (ipykernel)",
   "language": "python",
   "name": "python3"
  },
  "language_info": {
   "codemirror_mode": {
    "name": "ipython",
    "version": 3
   },
   "file_extension": ".py",
   "mimetype": "text/x-python",
   "name": "python",
   "nbconvert_exporter": "python",
   "pygments_lexer": "ipython3",
   "version": "3.10.13"
  }
 },
 "nbformat": 4,
 "nbformat_minor": 5
}
