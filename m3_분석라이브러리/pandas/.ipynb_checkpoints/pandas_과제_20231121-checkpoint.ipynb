{
 "cells": [
  {
   "cell_type": "markdown",
   "id": "6361703c",
   "metadata": {},
   "source": [
    "### [과제 1] 배열을 생성후 시리즈로 변환하여 아래와 같이 출력하세요.\n",
    "- [출력결과]\n",
    "state\n",
    "Califonia    1000\n",
    "Ohio         2000\n",
    "Oregon       3000\n",
    "Texas        4000\n",
    "Name: population, dtype:int32"
   ]
  },
  {
   "cell_type": "code",
   "execution_count": 19,
   "id": "33e2fe77",
   "metadata": {},
   "outputs": [
    {
     "name": "stdout",
     "output_type": "stream",
     "text": [
      "state\n",
      "Califonia    1000\n",
      "Ohio         2000\n",
      "Oregon       3000\n",
      "Texas        4000\n",
      "Name: population, dtype: int32\n"
     ]
    }
   ],
   "source": [
    "import pandas as pd\n",
    "import numpy as np\n",
    "\n",
    "array = np.arange(1000,5000,1000)                      # 배열을 이용하여 리스트 생성\n",
    "\n",
    "sr_array = pd.Series(array, index = ['Califonia', 'Ohio', 'Oregon', 'Texas'])    # 비열을 이용한 시리즈 생성\n",
    "sr_array.name = 'population'        # 생성된 시리즈의 이름\n",
    "sr_array.index.name = 'state'       # 생성된 시리즈에 사용된 index의 이름\n",
    "\n",
    "print(sr_array)        # 생성된 시리즈 이름등을 모두 포함함."
   ]
  },
  {
   "cell_type": "code",
   "execution_count": 18,
   "id": "97187e09",
   "metadata": {},
   "outputs": [
    {
     "name": "stdout",
     "output_type": "stream",
     "text": [
      "state\n",
      "Califonia    1000\n",
      "Ohio         2000\n",
      "Oregon       3000\n",
      "Texas        4000\n",
      "Name: population, dtype: int64\n"
     ]
    }
   ],
   "source": [
    "### [참고] 배열 생성이 아닌 리스트 생성후 결과 확인 시 dtype의 값이 int64가 됨.\n",
    "\n",
    "import pandas as pd\n",
    "import numpy as np\n",
    "\n",
    "list = [1000, 2000, 3000, 4000]                        # 직접 리스트 생성\n",
    "\n",
    "sr_list = pd.Series(list, index = ['Califonia', 'Ohio', 'Oregon', 'Texas'])    # 배열을 이용한 시리즈 생성\n",
    "sr_list.name = 'population'        # 생성된 시리즈의 이름\n",
    "sr_list.index.name = 'state'       # 생성된 시리즈에 사용된 index의 이름\n",
    "\n",
    "print(sr_list)        # 생성된 시리즈 이름등을 모두 포함함."
   ]
  },
  {
   "cell_type": "markdown",
   "id": "469271eb",
   "metadata": {},
   "source": [
    "### [과제 2] 5행 5열로 구성된 2차원 배열을 생성하여 데이터프레임으로 변경해서 출력하세요."
   ]
  },
  {
   "cell_type": "code",
   "execution_count": 31,
   "id": "1f9469d0",
   "metadata": {},
   "outputs": [
    {
     "name": "stdout",
     "output_type": "stream",
     "text": [
      "[[34 71 76 67 33]\n",
      " [86 42 20 55 11]\n",
      " [40 81 48 34 95]\n",
      " [82 53 79 22 92]\n",
      " [41 82 86 55 61]]\n",
      "\n",
      "    c1  c2  c3  c4  c5\n",
      "d1  34  71  76  67  33\n",
      "d2  86  42  20  55  11\n",
      "d3  40  81  48  34  95\n",
      "d4  82  53  79  22  92\n",
      "d5  41  82  86  55  61\n"
     ]
    }
   ],
   "source": [
    "import pandas as pd\n",
    "import numpy as np\n",
    "\n",
    "np.random.seed(0)                                  # .seed(숫자) : random 함수에서의 값이 변하지 않게 고정\n",
    "                                                   #               (숫자의 값에 따라 값이 고정됨.)\n",
    "array = np.random.randint(10,100,size=(5,5))\n",
    "print(array)\n",
    "\n",
    "print()\n",
    "df_array = pd.DataFrame(array, index=['d1','d2','d3','d4','d5'], columns=['c1','c2','c3','c4','c5'])\n",
    "print(df_array)"
   ]
  },
  {
   "cell_type": "markdown",
   "id": "bab7f752",
   "metadata": {},
   "source": [
    "### [과제 3] 과제 2번의 데이터프레임을 각각 배열, 리스트, 사전의 형태로 변환하여 출력하세요."
   ]
  },
  {
   "cell_type": "code",
   "execution_count": 42,
   "id": "65638765",
   "metadata": {},
   "outputs": [
    {
     "name": "stdout",
     "output_type": "stream",
     "text": [
      "<< 변환된 배열 확인 >>\n",
      "[[34 71 76 67 33]\n",
      " [86 42 20 55 11]\n",
      " [40 81 48 34 95]\n",
      " [82 53 79 22 92]\n",
      " [41 82 86 55 61]]\n",
      "Type ::: <class 'numpy.ndarray'>\n",
      "\n",
      "<< 변환된 리스트 확인 >>\n",
      "[[34, 71, 76, 67, 33], [86, 42, 20, 55, 11], [40, 81, 48, 34, 95], [82, 53, 79, 22, 92], [41, 82, 86, 55, 61]]\n",
      "Type ::: <class 'list'>\n",
      "\n",
      "<< 변환된 딕셔너리 확인 >>\n",
      "{'c1': [34, 86, 40, 82, 41], 'c2': [71, 42, 81, 53, 82], 'c3': [76, 20, 48, 79, 86], 'c4': [67, 55, 34, 22, 55], 'c5': [33, 11, 95, 92, 61]}\n",
      "Type ::: <class 'dict'>\n",
      "\n"
     ]
    }
   ],
   "source": [
    "# 데이터프레임을 배열로 변환\n",
    "array = df_array.values\n",
    "print(f\"<< 변환된 배열 확인 >>\\n{array}\\nType ::: {type(array)}\\n\")\n",
    "\n",
    "# 데이터프레임을 리스트로 변환\n",
    "lst = array.tolist()          # 배열로 변환된 데이터프레임을 받아 리스트로 변환\n",
    "print(f\"<< 변환된 리스트 확인 >>\\n{lst}\\nType ::: {type(lst)}\\n\")\n",
    "\n",
    "\n",
    "# 데이터프레임을 딕셔너리로 변환\n",
    "dict = df_array.to_dict('list')\n",
    "print(f\"<< 변환된 딕셔너리 확인 >>\\n{dict}\\nType ::: {type(dict)}\\n\")"
   ]
  },
  {
   "cell_type": "code",
   "execution_count": 8,
   "id": "0c42672e",
   "metadata": {},
   "outputs": [
    {
     "name": "stdout",
     "output_type": "stream",
     "text": [
      "    0   1   2   3   4\n",
      "0   1   2   3   4   5\n",
      "1   6   7   8   9  10\n",
      "2  11  12  13  14  15\n",
      "3  16  17  18  19  20\n",
      "4  21  22  23  24  25\n",
      "--------------------------------------------------\n",
      "[[ 1  2  3  4  5]\n",
      " [ 6  7  8  9 10]\n",
      " [11 12 13 14 15]\n",
      " [16 17 18 19 20]\n",
      " [21 22 23 24 25]]\n",
      "--------------------------------------------------\n",
      "[[1, 2, 3, 4, 5], [6, 7, 8, 9, 10], [11, 12, 13, 14, 15], [16, 17, 18, 19, 20], [21, 22, 23, 24, 25]]\n",
      "--------------------------------------------------\n",
      "{0: [1, 6, 11, 16, 21], 1: [2, 7, 12, 17, 22], 2: [3, 8, 13, 18, 23], 3: [4, 9, 14, 19, 24], 4: [5, 10, 15, 20, 25]}\n"
     ]
    }
   ],
   "source": [
    "### ['최재빈'님 코드]\n",
    "import pandas as pd\n",
    "import numpy as np\n",
    "\n",
    "data = np.arange(1, 26).reshape(5, 5)\n",
    "df = pd.DataFrame(data)\n",
    "\n",
    "\n",
    "# 배열 형태로 변환\n",
    "array_from_df = df.values\n",
    "\n",
    "# 리스트 형태로 변환\n",
    "list_from_df = df.values.tolist()\n",
    "\n",
    "# 사전 형태로 변환\n",
    "dict_from_df = df.to_dict('list')      # 괄호안에 'list'를 넣지 않으면 value 부분도 딕셔너리로 표현됨.\n",
    "\n",
    "\n",
    "# 결과 출력\n",
    "print(df)\n",
    "print('-'*50)\n",
    "print(array_from_df)\n",
    "print('-'*50)\n",
    "print(list_from_df) \n",
    "print('-'*50)\n",
    "print(dict_from_df)"
   ]
  },
  {
   "cell_type": "markdown",
   "id": "956150e4",
   "metadata": {},
   "source": [
    "### [과제 4] 4개의 Series를 결합하여 데이터프레임을 생성하여 출력하세요."
   ]
  },
  {
   "cell_type": "code",
   "execution_count": 19,
   "id": "a426c8a2",
   "metadata": {
    "scrolled": true
   },
   "outputs": [
    {
     "name": "stdout",
     "output_type": "stream",
     "text": [
      "0       3\n",
      "1       1\n",
      "2       3\n",
      "3      10\n",
      "4       3\n",
      "       ..\n",
      "995     7\n",
      "996     5\n",
      "997     8\n",
      "998    10\n",
      "999     3\n",
      "Length: 1000, dtype: int32\n",
      "\n",
      "        0  1   2   3\n",
      "0       1  0  18   3\n",
      "1       2  1  52   1\n",
      "2       3  0  92   3\n",
      "3       4  0  97  10\n",
      "4       5  0  61   3\n",
      "..    ... ..  ..  ..\n",
      "995   996  0  61   7\n",
      "996   997  1  70   5\n",
      "997   998  1  28   8\n",
      "998   999  1  31  10\n",
      "999  1000  0  68   3\n",
      "\n",
      "[1000 rows x 4 columns]\n",
      "\n",
      "       id  gender  age  region\n",
      "0       1       0   18       3\n",
      "1       2       1   52       1\n",
      "2       3       0   92       3\n",
      "3       4       0   97      10\n",
      "4       5       0   61       3\n",
      "..    ...     ...  ...     ...\n",
      "995   996       0   61       7\n",
      "996   997       1   70       5\n",
      "997   998       1   28       8\n",
      "998   999       1   31      10\n",
      "999  1000       0   68       3\n",
      "\n",
      "[1000 rows x 4 columns]\n"
     ]
    }
   ],
   "source": [
    "# 과제와 함께 주어진 코드\n",
    "\n",
    "id = np.arange(1,1001)\n",
    "i1 = pd.Series(id)\n",
    "\n",
    "gender = np.random.randint(2,size=1000)\n",
    "g1 = pd.Series(gender)\n",
    "\n",
    "age = np.random.randint(1,101,size=1000)\n",
    "a1 = pd.Series(age)\n",
    "\n",
    "region = np.random.randint(1,11,size=1000)\n",
    "r1 = pd.Series(region)\n",
    "\n",
    "print(r1); print()\n",
    "\n",
    "df_cc = pd.concat([i1,g1,a1,r1],axis=1)       # .concat() : 열이름 없이 데이터 프레임 생성됨\n",
    "print(df_cc); print()\n",
    "\n",
    "df = pd.DataFrame({'id': i1, 'gender': g1, 'age': a1, 'region': r1})   # ['주용규'님 코드] : 컬럼명 붙여서 데이터프레임 생성\n",
    "print(df)"
   ]
  },
  {
   "cell_type": "markdown",
   "id": "6d5bed0d",
   "metadata": {},
   "source": [
    "### [과제 4-1] 과제 4에 이어 아래 내용을 추가 이행하시오.\n",
    "- 출력한 데이터프레임에서 추출하고 싶은 5개의 데이터를 인덱싱하여 출력\n",
    "- null값을 3개 추가\n",
    "- null값의 개수를 확인하고 삭제\n",
    "- 2개의 데이터를 수정\n",
    "- 1개의 행을 삭제"
   ]
  },
  {
   "cell_type": "code",
   "execution_count": 34,
   "id": "711392ac",
   "metadata": {},
   "outputs": [
    {
     "name": "stdout",
     "output_type": "stream",
     "text": [
      "     id  gender   age  region\n",
      "0   1.0     0.0  18.0     3.0\n",
      "1  11.0     NaN  52.0     1.0\n",
      "2   3.0     0.0  92.0     3.0\n",
      "3   4.0    33.0  97.0     NaN\n",
      "4   5.0     0.0  61.0     3.0\n",
      "5   6.0     1.0   NaN     5.0\n",
      "6   7.0     0.0  32.0     5.0\n",
      "7   8.0     1.0  40.0     8.0\n",
      "8   9.0     1.0  21.0     1.0\n",
      "9  10.0     0.0  26.0     5.0\n",
      "\n",
      "[ age ] 92.0, 61.0, 32.0, 21.0, 85.0\n",
      "\n"
     ]
    }
   ],
   "source": [
    "print(df.head(10))\n",
    "\n",
    "# 데이터 인덱싱 ::: df.loc[(행),(열)]\n",
    "print(f\"\\n[ age ] {df.loc[2, 'age']}, {df.loc[4, 'age']}, \", end=\"\")\n",
    "print(f\"{df.loc[6, 'age']}, {df.loc[8, 'age']}, {df.loc[10, 'age']}\\n\")"
   ]
  },
  {
   "cell_type": "code",
   "execution_count": 35,
   "id": "16f8031f",
   "metadata": {},
   "outputs": [
    {
     "name": "stdout",
     "output_type": "stream",
     "text": [
      "     id  gender   age  region\n",
      "0   1.0     0.0  18.0     3.0\n",
      "1   NaN     NaN  52.0     1.0\n",
      "2   3.0     0.0  92.0     3.0\n",
      "3   4.0     NaN  97.0     NaN\n",
      "4   5.0     0.0  61.0     3.0\n",
      "5   6.0     1.0   NaN     5.0\n",
      "6   7.0     0.0  32.0     5.0\n",
      "7   8.0     1.0  40.0     8.0\n",
      "8   9.0     1.0  21.0     1.0\n",
      "9  10.0     0.0  26.0     5.0\n"
     ]
    }
   ],
   "source": [
    "# null값을 3개 추가\n",
    "df.iloc[1,0] = np.nan\n",
    "df.iloc[3,1] = np.nan\n",
    "df.iloc[5,2] = np.nan\n",
    "\n",
    "print(df.head(10))"
   ]
  },
  {
   "cell_type": "code",
   "execution_count": 36,
   "id": "589b623f",
   "metadata": {},
   "outputs": [
    {
     "name": "stdout",
     "output_type": "stream",
     "text": [
      "     id  gender   age  region\n",
      "0   1.0     0.0  18.0     3.0\n",
      "1  11.0     NaN  52.0     1.0\n",
      "2   3.0     0.0  92.0     3.0\n",
      "3   4.0    33.0  97.0     NaN\n",
      "4   5.0     0.0  61.0     3.0\n",
      "5   6.0     1.0   NaN     5.0\n",
      "6   7.0     0.0  32.0     5.0\n",
      "7   8.0     1.0  40.0     8.0\n",
      "8   9.0     1.0  21.0     1.0\n",
      "9  10.0     0.0  26.0     5.0\n"
     ]
    }
   ],
   "source": [
    "# 2개의 데이터를 수정\n",
    "df.iloc[1,0] = 11\n",
    "df.iloc[3,1] = 33\n",
    "\n",
    "print(df.head(10))\n",
    "\n",
    "\n",
    "# 1개의 행을 삭제\n",
    "\n",
    "#df1 = df.drop([1], axis=0)\n",
    "df.drop([1], axis=0, inplace=True)\n",
    "print(df.head(10))\n"
   ]
  },
  {
   "cell_type": "code",
   "execution_count": 37,
   "id": "349d736d",
   "metadata": {},
   "outputs": [
    {
     "name": "stdout",
     "output_type": "stream",
     "text": [
      "      id  gender   age  region\n",
      "0    1.0     0.0  18.0     3.0\n",
      "2    3.0     0.0  92.0     3.0\n",
      "3    4.0    33.0  97.0     NaN\n",
      "4    5.0     0.0  61.0     3.0\n",
      "5    6.0     1.0   NaN     5.0\n",
      "6    7.0     0.0  32.0     5.0\n",
      "7    8.0     1.0  40.0     8.0\n",
      "8    9.0     1.0  21.0     1.0\n",
      "9   10.0     0.0  26.0     5.0\n",
      "10  11.0     0.0  85.0     2.0\n"
     ]
    }
   ],
   "source": [
    "# 1개의 행을 삭제\n",
    "\n",
    "#df1 = df.drop([1], axis=0)\n",
    "df.drop([1], axis=0, inplace=True)\n",
    "print(df.head(10))\n"
   ]
  },
  {
   "cell_type": "code",
   "execution_count": null,
   "id": "6351685a",
   "metadata": {},
   "outputs": [],
   "source": [
    "# [참고] '주용규'님 코드\n",
    "\n",
    "df.iloc[0,1] = np.nan\n",
    "df.iloc[1,2] = np.nan\n",
    "df.iloc[3,3] = np.nan\n",
    "\n",
    "df.isnull().sum()\n",
    "\n",
    "dropped_df = df.dropna()\n",
    "\n",
    "dropped_df.isnull().sum()"
   ]
  },
  {
   "cell_type": "code",
   "execution_count": null,
   "id": "020a5d4d",
   "metadata": {},
   "outputs": [],
   "source": [
    "# [참고] '서영우'님 코드\n",
    "\n",
    "df.at[1,'id'] = None\n",
    "df.at[2,'id'] = None\n",
    "df.at[3,'id'] = None\n",
    "print(df)\n",
    "print()\n",
    "print(df.isna().sum())\n",
    "df = df.dropna(axis=0)       # axis=0 : '행'을 나타냄 / axis=1 : '열'을 표현\n",
    "df.head()\n",
    "df.at[4,'gender'] = 1\n",
    "df.at[5,'gender'] = 1\n",
    "df.head()\n",
    "df = df.drop(df.at[5, 'id'])\n",
    "df.head()"
   ]
  }
 ],
 "metadata": {
  "kernelspec": {
   "display_name": "Python 3 (ipykernel)",
   "language": "python",
   "name": "python3"
  },
  "language_info": {
   "codemirror_mode": {
    "name": "ipython",
    "version": 3
   },
   "file_extension": ".py",
   "mimetype": "text/x-python",
   "name": "python",
   "nbconvert_exporter": "python",
   "pygments_lexer": "ipython3",
   "version": "3.10.13"
  }
 },
 "nbformat": 4,
 "nbformat_minor": 5
}
